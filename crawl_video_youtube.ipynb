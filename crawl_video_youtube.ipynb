{
  "nbformat": 4,
  "nbformat_minor": 0,
  "metadata": {
    "colab": {
      "provenance": []
    },
    "kernelspec": {
      "name": "python3",
      "display_name": "Python 3"
    },
    "language_info": {
      "name": "python"
    }
  },
  "cells": [
    {
      "cell_type": "code",
      "source": [
        "https://github.com/swargarajbhowmik/youtube-video-playlist-downloader-colab/blob/main/YouTube_Video_Playlist_Downloader.ipynb\n",
        "\n",
        "https://github.com/bagushikano/youtube_channel_video_downloader/blob/main/Youtube_channel_scraper.ipynb\n",
        "\n",
        "https://www.geeksforgeeks.org/pytube-python-library-download-youtube-videos/\n",
        "\n"
      ],
      "metadata": {
        "id": "StpMhgdO3med"
      },
      "execution_count": null,
      "outputs": []
    },
    {
      "cell_type": "markdown",
      "source": [
        "**PyTube là một thư viện Python mã nguồn mở, được sử dụng để tải xuống video và âm thanh từ YouTube. Nó cung cấp các chức năng mạnh mẽ để tương tác với API YouTube và lấy thông tin về video, danh sách phát và kênh. PyTube hỗ trợ nhiều định dạng video và âm thanh như MP4, WebM, 3GP và âm thanh MP3.**\n",
        "\n",
        "Tính năng chính của PyTube bao gồm:\n",
        "\n",
        "Tải xuống video: PyTube cho phép bạn tải xuống video từ YouTube bằng cách cung cấp URL của video. Bạn có thể tải xuống video ở các định dạng khác nhau và chọn chất lượng tải xuống.\n",
        "\n",
        "Tải xuống âm thanh: Ngoài việc tải xuống video, PyTube cũng cho phép bạn tải xuống chỉ âm thanh từ video. Bạn có thể lưu trữ các bản ghi âm định dạng MP3 hoặc các định dạng âm thanh khác.\n",
        "\n",
        "Lấy thông tin về video: PyTube cung cấp các chức năng để truy vấn và lấy thông tin về video, chẳng hạn như tiêu đề, tác giả, thời lượng, số lượt xem, danh sách phát và nhiều thông tin khác.\n",
        "\n",
        "Tải xuống danh sách phát và kênh: Bạn có thể sử dụng PyTube để tải xuống toàn bộ danh sách phát hoặc kênh YouTube. Điều này giúp bạn tiết kiệm thời gian và công sức khi cần tải xuống nhiều video cùng một lúc.\n",
        "\n",
        "PyTube là một thư viện phổ biến và mạnh mẽ trong cộng đồng Python cho việc tải xuống và xử lý video từ YouTube. Nó dễ sử dụng và có tài liệu tốt, giúp bạn tạo các ứng dụng hoặc kịch bản tự động hóa liên quan đến việc tải xuống video từ YouTube."
      ],
      "metadata": {
        "id": "E_-mJDRhFNiP"
      }
    },
    {
      "cell_type": "markdown",
      "source": [
        "#import lib"
      ],
      "metadata": {
        "id": "Tj-Ir1ogGmi_"
      }
    },
    {
      "cell_type": "code",
      "execution_count": 22,
      "metadata": {
        "id": "aQALcKTr9saq",
        "outputId": "e82ca76a-9e17-4285-91cb-a38d08ec16aa",
        "colab": {
          "base_uri": "https://localhost:8080/"
        }
      },
      "outputs": [
        {
          "output_type": "stream",
          "name": "stdout",
          "text": [
            "Looking in indexes: https://pypi.org/simple, https://us-python.pkg.dev/colab-wheels/public/simple/\n",
            "Requirement already satisfied: pytube in /usr/local/lib/python3.10/dist-packages (15.0.0)\n"
          ]
        }
      ],
      "source": [
        "!pip install pytube\n"
      ]
    },
    {
      "cell_type": "code",
      "source": [
        "from google.colab import drive\n",
        "import os, sys\n",
        "from pytube import YouTube"
      ],
      "metadata": {
        "id": "zzy13buc3SxJ"
      },
      "execution_count": 23,
      "outputs": []
    },
    {
      "cell_type": "markdown",
      "source": [
        "#Video Downloader\n"
      ],
      "metadata": {
        "id": "zoKLV37E341D"
      }
    },
    {
      "cell_type": "code",
      "source": [
        "video_url = input(\"Enter Video URL: \")\n",
        "yt = YouTube(video_url)\n",
        "print(\"Currently Downloading: \" + yt.title)\n",
        "stream = yt.streams.get_highest_resolution()\n",
        "stream.download()\n",
        "print(\"Video downloaded successfully!\")"
      ],
      "metadata": {
        "colab": {
          "base_uri": "https://localhost:8080/"
        },
        "id": "NF0_QvuA3Szg",
        "outputId": "94d1e4b8-30d7-4158-842d-c3bebd60a1a0"
      },
      "execution_count": 24,
      "outputs": [
        {
          "output_type": "stream",
          "name": "stdout",
          "text": [
            "Enter Video URL: https://www.youtube.com/watch?v=2w81l8b5XYQ\n",
            "Currently Downloading: Outside - Calvin Harris ( Maidden Remix )《 00:46 》| Tik Tok | Trend Hot TikTok - 抖音 DouYin\n",
            "Video downloaded successfully!\n"
          ]
        }
      ]
    },
    {
      "cell_type": "code",
      "source": [
        "print(stream)"
      ],
      "metadata": {
        "colab": {
          "base_uri": "https://localhost:8080/"
        },
        "id": "Q2VKTS-oQvph",
        "outputId": "7fee3e15-fe5a-4310-f33c-0e6d6df85b0f"
      },
      "execution_count": 20,
      "outputs": [
        {
          "output_type": "stream",
          "name": "stdout",
          "text": [
            "<Stream: itag=\"22\" mime_type=\"video/mp4\" res=\"720p\" fps=\"30fps\" vcodec=\"avc1.64001F\" acodec=\"mp4a.40.2\" progressive=\"True\" type=\"video\">\n"
          ]
        }
      ]
    },
    {
      "cell_type": "code",
      "source": [
        ">>> from pytube import YouTube\n",
        " >>> YouTube('https://youtu.be/2lAe1cqCOXo').streams.first().download()\n",
        " >>> yt = YouTube('http://youtube.com/watch?v=2lAe1cqCOXo')\n",
        " >>> yt.streams\n",
        "  ... .filter(progressive=True, file_extension='mp4')\n",
        "  ... .order_by('resolution')\n",
        "  ... .desc()\n",
        "  ... .first()\n",
        "  ... .download()"
      ],
      "metadata": {
        "id": "MXfuHhWHGTdX"
      },
      "execution_count": null,
      "outputs": []
    },
    {
      "cell_type": "markdown",
      "source": [
        "Đoạn mã trên sử dụng thư viện PyTube để tải xuống video từ YouTube.\n",
        "\n",
        "Dòng đầu tiên khởi tạo một đối tượng YouTube với đường dẫn URL của video cần tải xuống. Trong trường hợp này, URL là 'https://youtu.be/2lAe1cqCOXo'.\n",
        "\n",
        "Tiếp theo, dùng phương thức streams.first() để lấy stream đầu tiên của video, nghĩa là lấy stream có chất lượng tốt nhất.\n",
        "\n",
        "Sau đó, sử dụng phương thức .download() để tải xuống video đó. Video sẽ được lưu trữ trong thư mục hiện tại.\n",
        "\n",
        "Dòng thứ ba tạo một đối tượng YouTube với đường dẫn URL của video khác ('http://youtube.com/watch?v=2lAe1cqCOXo').\n",
        "\n",
        "Dòng thứ tư gọi phương thức streams để lấy danh sách các stream có sẵn cho video này.\n",
        "\n",
        "Kế tiếp, sử dụng phương thức filter để lọc các stream có thuộc tính progressive=True (có thể phát video liên tục) và file_extension='mp4' (định dạng video MP4).\n",
        "\n",
        "Tiếp theo, sử dụng phương thức order_by để sắp xếp các stream theo thuộc tính 'resolution' (độ phân giải).\n",
        "\n",
        "Dòng tiếp theo, sử dụng phương thức desc để sắp xếp các stream theo thứ tự giảm dần.\n",
        "\n",
        "Cuối cùng, sử dụng first() để lấy stream đầu tiên trong danh sách đã được lọc và sắp xếp, và sau đó gọi download() để tải xuống video này.\n",
        "\n",
        "Tóm lại, đoạn mã trên sử dụng thư viện PyTube để tải xuống video từ YouTube, cho phép bạn chỉ định URL của video và lựa chọn stream tốt nhất dựa trên chất lượng hoặc độ phân giải."
      ],
      "metadata": {
        "id": "xVKyJjZzGQwl"
      }
    },
    {
      "cell_type": "code",
      "source": [
        "video_url = \"https://www.youtube.com/watch?v=DVpqAxxiEGQ\"\n",
        "yt = YouTube(video_url)\n",
        "print(\"Currently Downloading: \" + yt.title)\n",
        "stream = yt.streams.get_highest_resolution()\n",
        "print(yt)\n",
        "print(stream)"
      ],
      "metadata": {
        "colab": {
          "base_uri": "https://localhost:8080/"
        },
        "id": "ubd4BCHWGdN-",
        "outputId": "52a3a778-b81d-46a2-bf30-6c4b68af83dc"
      },
      "execution_count": 25,
      "outputs": [
        {
          "output_type": "stream",
          "name": "stdout",
          "text": [
            "Currently Downloading: (Vietsub+Pinyin) Thập niên nhân gian/十年人间 - Lão Can  Ma/Lao乾媽 (Lý Thường Siêu)\n",
            "<pytube.__main__.YouTube object: videoId=DVpqAxxiEGQ>\n",
            "<Stream: itag=\"22\" mime_type=\"video/mp4\" res=\"720p\" fps=\"30fps\" vcodec=\"avc1.64001F\" acodec=\"mp4a.40.2\" progressive=\"True\" type=\"video\">\n"
          ]
        }
      ]
    },
    {
      "cell_type": "code",
      "source": [
        "print(yt.title)\n",
        "print(yt.views)\n",
        "print(yt.keywords)\n",
        "print(yt.streaming_data)\n",
        "print(yt.description)\n",
        "print(yt.embed_url)\n",
        "print(yt.streams)\n",
        "print(yt.author)"
      ],
      "metadata": {
        "colab": {
          "base_uri": "https://localhost:8080/"
        },
        "id": "T9Pl7VfzG0xh",
        "outputId": "ef65bb21-74fc-4aac-8172-c7ad7876f359"
      },
      "execution_count": 27,
      "outputs": [
        {
          "output_type": "stream",
          "name": "stdout",
          "text": [
            "(Vietsub+Pinyin) Thập niên nhân gian/十年人间 - Lão Can  Ma/Lao乾媽 (Lý Thường Siêu)\n",
            "18675\n",
            "[]\n",
            "{'expiresInSeconds': '21540', 'formats': [{'itag': 17, 'url': 'https://rr3---sn-5ualdnls.googlevideo.com/videoplayback?expire=1684358477&ei=7fBkZPqrBrGX_9EPuZyhiAs&ip=34.74.4.102&id=o-AJylLEJ4GQrN1mvJb351KnkjckwTKz0ngD_jIgZMsHWp&itag=17&source=youtube&requiressl=yes&mh=go&mm=31%2C29&mn=sn-5ualdnls%2Csn-5uaeznl6&ms=au%2Crdu&mv=u&mvi=3&pl=21&vprv=1&mime=video%2F3gpp&gir=yes&clen=1326936&dur=277.246&lmt=1680791341869205&mt=1684336026&fvip=4&fexp=24007246&beids=24350018&c=ANDROID_MUSIC&txp=5318224&sparams=expire%2Cei%2Cip%2Cid%2Citag%2Csource%2Crequiressl%2Cvprv%2Cmime%2Cgir%2Cclen%2Cdur%2Clmt&sig=AOq0QJ8wRQIhAMCVEgv8jS1iHg6BXjHn5_QECUoKQOy0EPvTBYOM422XAiBgY_mVvzrI1KLIPjMLIDIgp_QnPc46bYw2T5TkL_Q4aQ%3D%3D&lsparams=mh%2Cmm%2Cmn%2Cms%2Cmv%2Cmvi%2Cpl&lsig=AG3C_xAwRgIhANyPQXqTXk535VA408YR3DaH4sbMebtbpGVVH8sW2Y6hAiEAu-0ifhw7DRk31AGuPdl6-sXGyt5EF8z9lCPBm2pe408%3D', 'mimeType': 'video/3gpp; codecs=\"mp4v.20.3, mp4a.40.2\"', 'bitrate': 38313, 'width': 176, 'height': 144, 'lastModified': '1680791341869205', 'contentLength': '1326936', 'quality': 'small', 'fps': 8, 'qualityLabel': '144p', 'projectionType': 'RECTANGULAR', 'averageBitrate': 38289, 'audioQuality': 'AUDIO_QUALITY_LOW', 'approxDurationMs': '277246', 'audioSampleRate': '22050', 'audioChannels': 1, 'is_otf': False}, {'itag': 18, 'url': 'https://rr3---sn-5ualdnls.googlevideo.com/videoplayback?expire=1684358477&ei=7fBkZPqrBrGX_9EPuZyhiAs&ip=34.74.4.102&id=o-AJylLEJ4GQrN1mvJb351KnkjckwTKz0ngD_jIgZMsHWp&itag=18&source=youtube&requiressl=yes&mh=go&mm=31%2C29&mn=sn-5ualdnls%2Csn-5uaeznl6&ms=au%2Crdu&mv=u&mvi=3&pl=21&vprv=1&mime=video%2Fmp4&gir=yes&clen=4682964&ratebypass=yes&dur=277.199&lmt=1680791370810067&mt=1684336026&fvip=4&fexp=24007246&beids=24350018&c=ANDROID_MUSIC&txp=5319224&sparams=expire%2Cei%2Cip%2Cid%2Citag%2Csource%2Crequiressl%2Cvprv%2Cmime%2Cgir%2Cclen%2Cratebypass%2Cdur%2Clmt&sig=AOq0QJ8wRQIgA0MI0-6RFIKZtV8UPp0y6J9N42lw4zAH7m30NRsKU6sCIQC5fZdQD5w_PoEctzd4G7QZZ2iVpnSf2y2FbJ3ed6EHmw%3D%3D&lsparams=mh%2Cmm%2Cmn%2Cms%2Cmv%2Cmvi%2Cpl&lsig=AG3C_xAwRgIhANyPQXqTXk535VA408YR3DaH4sbMebtbpGVVH8sW2Y6hAiEAu-0ifhw7DRk31AGuPdl6-sXGyt5EF8z9lCPBm2pe408%3D', 'mimeType': 'video/mp4; codecs=\"avc1.42001E, mp4a.40.2\"', 'bitrate': 135199, 'width': 640, 'height': 360, 'lastModified': '1680791370810067', 'contentLength': '4682964', 'quality': 'medium', 'fps': 30, 'qualityLabel': '360p', 'projectionType': 'RECTANGULAR', 'averageBitrate': 135150, 'audioQuality': 'AUDIO_QUALITY_LOW', 'approxDurationMs': '277199', 'audioSampleRate': '44100', 'audioChannels': 2, 'is_otf': False}, {'itag': 22, 'url': 'https://rr3---sn-5ualdnls.googlevideo.com/videoplayback?expire=1684358477&ei=7fBkZPqrBrGX_9EPuZyhiAs&ip=34.74.4.102&id=o-AJylLEJ4GQrN1mvJb351KnkjckwTKz0ngD_jIgZMsHWp&itag=22&source=youtube&requiressl=yes&mh=go&mm=31%2C29&mn=sn-5ualdnls%2Csn-5uaeznl6&ms=au%2Crdu&mv=u&mvi=3&pl=21&vprv=1&mime=video%2Fmp4&cnr=14&ratebypass=yes&dur=277.199&lmt=1680791450515378&mt=1684336026&fvip=4&fexp=24007246&beids=24350018&c=ANDROID_MUSIC&txp=5318224&sparams=expire%2Cei%2Cip%2Cid%2Citag%2Csource%2Crequiressl%2Cvprv%2Cmime%2Ccnr%2Cratebypass%2Cdur%2Clmt&sig=AOq0QJ8wRQIhAL54691qrz377eJz2vGzsMKu4Vjh3BwA2ft1MupNtiXgAiACb-BYdEGkXK7ybNmyBHBkuxPXZ-kGAp5xmM7nwjvdwQ%3D%3D&lsparams=mh%2Cmm%2Cmn%2Cms%2Cmv%2Cmvi%2Cpl&lsig=AG3C_xAwRgIhANyPQXqTXk535VA408YR3DaH4sbMebtbpGVVH8sW2Y6hAiEAu-0ifhw7DRk31AGuPdl6-sXGyt5EF8z9lCPBm2pe408%3D', 'mimeType': 'video/mp4; codecs=\"avc1.64001F, mp4a.40.2\"', 'bitrate': 217631, 'width': 1280, 'height': 720, 'lastModified': '1680791450515378', 'quality': 'hd720', 'fps': 30, 'qualityLabel': '720p', 'projectionType': 'RECTANGULAR', 'audioQuality': 'AUDIO_QUALITY_MEDIUM', 'approxDurationMs': '277199', 'audioSampleRate': '44100', 'audioChannels': 2, 'is_otf': False}], 'adaptiveFormats': [{'itag': 137, 'url': 'https://rr3---sn-5ualdnls.googlevideo.com/videoplayback?expire=1684358477&ei=7fBkZPqrBrGX_9EPuZyhiAs&ip=34.74.4.102&id=o-AJylLEJ4GQrN1mvJb351KnkjckwTKz0ngD_jIgZMsHWp&itag=137&source=youtube&requiressl=yes&mh=go&mm=31%2C29&mn=sn-5ualdnls%2Csn-5uaeznl6&ms=au%2Crdu&mv=u&mvi=3&pl=21&vprv=1&mime=video%2Fmp4&gir=yes&clen=4721715&dur=277.099&lmt=1680791395487002&mt=1684336026&fvip=4&keepalive=yes&fexp=24007246&beids=24350018&c=ANDROID_MUSIC&txp=5319224&sparams=expire%2Cei%2Cip%2Cid%2Citag%2Csource%2Crequiressl%2Cvprv%2Cmime%2Cgir%2Cclen%2Cdur%2Clmt&sig=AOq0QJ8wRAIgOH6SAKOxIR0o77scpRma5FXc4hOoez8x-_1p59I2wxECIDZrJVjkuTQlv8mNbDcLtYNvgI4Hh2cafNVdwwHHgXLW&lsparams=mh%2Cmm%2Cmn%2Cms%2Cmv%2Cmvi%2Cpl&lsig=AG3C_xAwRgIhANyPQXqTXk535VA408YR3DaH4sbMebtbpGVVH8sW2Y6hAiEAu-0ifhw7DRk31AGuPdl6-sXGyt5EF8z9lCPBm2pe408%3D', 'mimeType': 'video/mp4; codecs=\"avc1.640028\"', 'bitrate': 164246, 'width': 1920, 'height': 1080, 'initRange': {'start': '0', 'end': '741'}, 'indexRange': {'start': '742', 'end': '1397'}, 'lastModified': '1680791395487002', 'contentLength': '4721715', 'quality': 'hd1080', 'fps': 30, 'qualityLabel': '1080p', 'projectionType': 'RECTANGULAR', 'averageBitrate': 136318, 'approxDurationMs': '277099', 'is_otf': False}, {'itag': 248, 'url': 'https://rr3---sn-5ualdnls.googlevideo.com/videoplayback?expire=1684358477&ei=7fBkZPqrBrGX_9EPuZyhiAs&ip=34.74.4.102&id=o-AJylLEJ4GQrN1mvJb351KnkjckwTKz0ngD_jIgZMsHWp&itag=248&source=youtube&requiressl=yes&mh=go&mm=31%2C29&mn=sn-5ualdnls%2Csn-5uaeznl6&ms=au%2Crdu&mv=u&mvi=3&pl=21&vprv=1&mime=video%2Fwebm&gir=yes&clen=3523978&dur=277.100&lmt=1680791382388014&mt=1684336026&fvip=4&keepalive=yes&fexp=24007246&beids=24350018&c=ANDROID_MUSIC&txp=5319224&sparams=expire%2Cei%2Cip%2Cid%2Citag%2Csource%2Crequiressl%2Cvprv%2Cmime%2Cgir%2Cclen%2Cdur%2Clmt&sig=AOq0QJ8wRgIhAO_G-7nXR9WHG6R1MA_LU9VvD-chirGX49PCK1QWhytRAiEA7ste3_leKKALyRgUyOO7qcirqPOzHZzHG7X03s-FEoA%3D&lsparams=mh%2Cmm%2Cmn%2Cms%2Cmv%2Cmvi%2Cpl&lsig=AG3C_xAwRgIhANyPQXqTXk535VA408YR3DaH4sbMebtbpGVVH8sW2Y6hAiEAu-0ifhw7DRk31AGuPdl6-sXGyt5EF8z9lCPBm2pe408%3D', 'mimeType': 'video/webm; codecs=\"vp9\"', 'bitrate': 132333, 'width': 1920, 'height': 1080, 'initRange': {'start': '0', 'end': '219'}, 'indexRange': {'start': '220', 'end': '1093'}, 'lastModified': '1680791382388014', 'contentLength': '3523978', 'quality': 'hd1080', 'fps': 30, 'qualityLabel': '1080p', 'projectionType': 'RECTANGULAR', 'averageBitrate': 101738, 'colorInfo': {'primaries': 'COLOR_PRIMARIES_BT709', 'transferCharacteristics': 'COLOR_TRANSFER_CHARACTERISTICS_BT709', 'matrixCoefficients': 'COLOR_MATRIX_COEFFICIENTS_BT709'}, 'approxDurationMs': '277100', 'is_otf': False}, {'itag': 136, 'url': 'https://rr3---sn-5ualdnls.googlevideo.com/videoplayback?expire=1684358477&ei=7fBkZPqrBrGX_9EPuZyhiAs&ip=34.74.4.102&id=o-AJylLEJ4GQrN1mvJb351KnkjckwTKz0ngD_jIgZMsHWp&itag=136&source=youtube&requiressl=yes&mh=go&mm=31%2C29&mn=sn-5ualdnls%2Csn-5uaeznl6&ms=au%2Crdu&mv=u&mvi=3&pl=21&vprv=1&mime=video%2Fmp4&gir=yes&clen=3092525&dur=277.099&lmt=1680791389120220&mt=1684336026&fvip=4&keepalive=yes&fexp=24007246&beids=24350018&c=ANDROID_MUSIC&txp=5319224&sparams=expire%2Cei%2Cip%2Cid%2Citag%2Csource%2Crequiressl%2Cvprv%2Cmime%2Cgir%2Cclen%2Cdur%2Clmt&sig=AOq0QJ8wRQIhAM1N6toK7AAuSzBlQbg7KzsEvXj8mefuwWz3vYMXnoEdAiAmTek4SI1xdz8Pj5quMjxSpAAtyAPH0imYl0wyf--yQQ%3D%3D&lsparams=mh%2Cmm%2Cmn%2Cms%2Cmv%2Cmvi%2Cpl&lsig=AG3C_xAwRgIhANyPQXqTXk535VA408YR3DaH4sbMebtbpGVVH8sW2Y6hAiEAu-0ifhw7DRk31AGuPdl6-sXGyt5EF8z9lCPBm2pe408%3D', 'mimeType': 'video/mp4; codecs=\"avc1.64001f\"', 'bitrate': 107006, 'width': 1280, 'height': 720, 'initRange': {'start': '0', 'end': '739'}, 'indexRange': {'start': '740', 'end': '1395'}, 'lastModified': '1680791389120220', 'contentLength': '3092525', 'quality': 'hd720', 'fps': 30, 'qualityLabel': '720p', 'projectionType': 'RECTANGULAR', 'averageBitrate': 89282, 'approxDurationMs': '277099', 'is_otf': False}, {'itag': 247, 'url': 'https://rr3---sn-5ualdnls.googlevideo.com/videoplayback?expire=1684358477&ei=7fBkZPqrBrGX_9EPuZyhiAs&ip=34.74.4.102&id=o-AJylLEJ4GQrN1mvJb351KnkjckwTKz0ngD_jIgZMsHWp&itag=247&source=youtube&requiressl=yes&mh=go&mm=31%2C29&mn=sn-5ualdnls%2Csn-5uaeznl6&ms=au%2Crdu&mv=u&mvi=3&pl=21&vprv=1&mime=video%2Fwebm&gir=yes&clen=2664071&dur=277.100&lmt=1680791392653111&mt=1684336026&fvip=4&keepalive=yes&fexp=24007246&beids=24350018&c=ANDROID_MUSIC&txp=5319224&sparams=expire%2Cei%2Cip%2Cid%2Citag%2Csource%2Crequiressl%2Cvprv%2Cmime%2Cgir%2Cclen%2Cdur%2Clmt&sig=AOq0QJ8wRAIgTGWzX4IJxPLEAuJYXM2wwheIGsLVaPb6-dy3-pVJKo4CIGPl9ugqdHVhyjQ_A7yjOIOzoTB4h-NzvvZCiI5vI_HY&lsparams=mh%2Cmm%2Cmn%2Cms%2Cmv%2Cmvi%2Cpl&lsig=AG3C_xAwRgIhANyPQXqTXk535VA408YR3DaH4sbMebtbpGVVH8sW2Y6hAiEAu-0ifhw7DRk31AGuPdl6-sXGyt5EF8z9lCPBm2pe408%3D', 'mimeType': 'video/webm; codecs=\"vp9\"', 'bitrate': 103294, 'width': 1280, 'height': 720, 'initRange': {'start': '0', 'end': '219'}, 'indexRange': {'start': '220', 'end': '1092'}, 'lastModified': '1680791392653111', 'contentLength': '2664071', 'quality': 'hd720', 'fps': 30, 'qualityLabel': '720p', 'projectionType': 'RECTANGULAR', 'averageBitrate': 76912, 'colorInfo': {'primaries': 'COLOR_PRIMARIES_BT709', 'transferCharacteristics': 'COLOR_TRANSFER_CHARACTERISTICS_BT709', 'matrixCoefficients': 'COLOR_MATRIX_COEFFICIENTS_BT709'}, 'approxDurationMs': '277100', 'is_otf': False}, {'itag': 135, 'url': 'https://rr3---sn-5ualdnls.googlevideo.com/videoplayback?expire=1684358477&ei=7fBkZPqrBrGX_9EPuZyhiAs&ip=34.74.4.102&id=o-AJylLEJ4GQrN1mvJb351KnkjckwTKz0ngD_jIgZMsHWp&itag=135&source=youtube&requiressl=yes&mh=go&mm=31%2C29&mn=sn-5ualdnls%2Csn-5uaeznl6&ms=au%2Crdu&mv=u&mvi=3&pl=21&vprv=1&mime=video%2Fmp4&gir=yes&clen=1979692&dur=277.099&lmt=1680791389325755&mt=1684336026&fvip=4&keepalive=yes&fexp=24007246&beids=24350018&c=ANDROID_MUSIC&txp=5319224&sparams=expire%2Cei%2Cip%2Cid%2Citag%2Csource%2Crequiressl%2Cvprv%2Cmime%2Cgir%2Cclen%2Cdur%2Clmt&sig=AOq0QJ8wRgIhALU5qIB5sQiADz4dTh6-BFgtCy-2r5yK7r4VQUKAL6LVAiEA3qmAjpt_OW4HnhF0xA8k1O9-h62z1cvXS31rhbRYhvQ%3D&lsparams=mh%2Cmm%2Cmn%2Cms%2Cmv%2Cmvi%2Cpl&lsig=AG3C_xAwRgIhANyPQXqTXk535VA408YR3DaH4sbMebtbpGVVH8sW2Y6hAiEAu-0ifhw7DRk31AGuPdl6-sXGyt5EF8z9lCPBm2pe408%3D', 'mimeType': 'video/mp4; codecs=\"avc1.4d401f\"', 'bitrate': 69167, 'width': 854, 'height': 480, 'initRange': {'start': '0', 'end': '740'}, 'indexRange': {'start': '741', 'end': '1396'}, 'lastModified': '1680791389325755', 'contentLength': '1979692', 'quality': 'large', 'fps': 30, 'qualityLabel': '480p', 'projectionType': 'RECTANGULAR', 'averageBitrate': 57154, 'approxDurationMs': '277099', 'is_otf': False}, {'itag': 244, 'url': 'https://rr3---sn-5ualdnls.googlevideo.com/videoplayback?expire=1684358477&ei=7fBkZPqrBrGX_9EPuZyhiAs&ip=34.74.4.102&id=o-AJylLEJ4GQrN1mvJb351KnkjckwTKz0ngD_jIgZMsHWp&itag=244&source=youtube&requiressl=yes&mh=go&mm=31%2C29&mn=sn-5ualdnls%2Csn-5uaeznl6&ms=au%2Crdu&mv=u&mvi=3&pl=21&vprv=1&mime=video%2Fwebm&gir=yes&clen=1750183&dur=277.100&lmt=1680791383126093&mt=1684336026&fvip=4&keepalive=yes&fexp=24007246&beids=24350018&c=ANDROID_MUSIC&txp=5319224&sparams=expire%2Cei%2Cip%2Cid%2Citag%2Csource%2Crequiressl%2Cvprv%2Cmime%2Cgir%2Cclen%2Cdur%2Clmt&sig=AOq0QJ8wRAIgT31LPJs-UUpmFH9iZJ4Yd_eVtUOjszsQZndNqLrDy34CIBcbJGVhft11Js6hCiwlvHEklxQLInVOXEAgQqX0lpG3&lsparams=mh%2Cmm%2Cmn%2Cms%2Cmv%2Cmvi%2Cpl&lsig=AG3C_xAwRgIhANyPQXqTXk535VA408YR3DaH4sbMebtbpGVVH8sW2Y6hAiEAu-0ifhw7DRk31AGuPdl6-sXGyt5EF8z9lCPBm2pe408%3D', 'mimeType': 'video/webm; codecs=\"vp9\"', 'bitrate': 68842, 'width': 854, 'height': 480, 'initRange': {'start': '0', 'end': '218'}, 'indexRange': {'start': '219', 'end': '1090'}, 'lastModified': '1680791383126093', 'contentLength': '1750183', 'quality': 'large', 'fps': 30, 'qualityLabel': '480p', 'projectionType': 'RECTANGULAR', 'averageBitrate': 50528, 'colorInfo': {'primaries': 'COLOR_PRIMARIES_BT709', 'transferCharacteristics': 'COLOR_TRANSFER_CHARACTERISTICS_BT709', 'matrixCoefficients': 'COLOR_MATRIX_COEFFICIENTS_BT709'}, 'approxDurationMs': '277100', 'is_otf': False}, {'itag': 134, 'url': 'https://rr3---sn-5ualdnls.googlevideo.com/videoplayback?expire=1684358477&ei=7fBkZPqrBrGX_9EPuZyhiAs&ip=34.74.4.102&id=o-AJylLEJ4GQrN1mvJb351KnkjckwTKz0ngD_jIgZMsHWp&itag=134&source=youtube&requiressl=yes&mh=go&mm=31%2C29&mn=sn-5ualdnls%2Csn-5uaeznl6&ms=au%2Crdu&mv=u&mvi=3&pl=21&vprv=1&mime=video%2Fmp4&gir=yes&clen=1377722&dur=277.099&lmt=1680791387927011&mt=1684336026&fvip=4&keepalive=yes&fexp=24007246&beids=24350018&c=ANDROID_MUSIC&txp=5319224&sparams=expire%2Cei%2Cip%2Cid%2Citag%2Csource%2Crequiressl%2Cvprv%2Cmime%2Cgir%2Cclen%2Cdur%2Clmt&sig=AOq0QJ8wRAIgC4Dak__p8UVfXDQcXnMdUBxZtStqB6QO8I-WHZs0JRQCIExjhQgjAY3x9a_0yU_l1FlNJAGKCYwuI4XE3JzytwZ2&lsparams=mh%2Cmm%2Cmn%2Cms%2Cmv%2Cmvi%2Cpl&lsig=AG3C_xAwRgIhANyPQXqTXk535VA408YR3DaH4sbMebtbpGVVH8sW2Y6hAiEAu-0ifhw7DRk31AGuPdl6-sXGyt5EF8z9lCPBm2pe408%3D', 'mimeType': 'video/mp4; codecs=\"avc1.4d401e\"', 'bitrate': 47357, 'width': 640, 'height': 360, 'initRange': {'start': '0', 'end': '740'}, 'indexRange': {'start': '741', 'end': '1396'}, 'lastModified': '1680791387927011', 'contentLength': '1377722', 'quality': 'medium', 'fps': 30, 'qualityLabel': '360p', 'projectionType': 'RECTANGULAR', 'averageBitrate': 39775, 'highReplication': True, 'approxDurationMs': '277099', 'is_otf': False}, {'itag': 243, 'url': 'https://rr3---sn-5ualdnls.googlevideo.com/videoplayback?expire=1684358477&ei=7fBkZPqrBrGX_9EPuZyhiAs&ip=34.74.4.102&id=o-AJylLEJ4GQrN1mvJb351KnkjckwTKz0ngD_jIgZMsHWp&itag=243&source=youtube&requiressl=yes&mh=go&mm=31%2C29&mn=sn-5ualdnls%2Csn-5uaeznl6&ms=au%2Crdu&mv=u&mvi=3&pl=21&vprv=1&mime=video%2Fwebm&gir=yes&clen=1239544&dur=277.100&lmt=1680791383177859&mt=1684336026&fvip=4&keepalive=yes&fexp=24007246&beids=24350018&c=ANDROID_MUSIC&txp=5319224&sparams=expire%2Cei%2Cip%2Cid%2Citag%2Csource%2Crequiressl%2Cvprv%2Cmime%2Cgir%2Cclen%2Cdur%2Clmt&sig=AOq0QJ8wRQIhAL_stPcm8BXTCiNpWS2vzoCT5pKjpnSr-008nlB6q77_AiBXp5gkb_w6ErKUSPC62gw_zLPPi91cWhGKNJ5vZopaIg%3D%3D&lsparams=mh%2Cmm%2Cmn%2Cms%2Cmv%2Cmvi%2Cpl&lsig=AG3C_xAwRgIhANyPQXqTXk535VA408YR3DaH4sbMebtbpGVVH8sW2Y6hAiEAu-0ifhw7DRk31AGuPdl6-sXGyt5EF8z9lCPBm2pe408%3D', 'mimeType': 'video/webm; codecs=\"vp9\"', 'bitrate': 49624, 'width': 640, 'height': 360, 'initRange': {'start': '0', 'end': '218'}, 'indexRange': {'start': '219', 'end': '1089'}, 'lastModified': '1680791383177859', 'contentLength': '1239544', 'quality': 'medium', 'fps': 30, 'qualityLabel': '360p', 'projectionType': 'RECTANGULAR', 'averageBitrate': 35786, 'colorInfo': {'primaries': 'COLOR_PRIMARIES_BT709', 'transferCharacteristics': 'COLOR_TRANSFER_CHARACTERISTICS_BT709', 'matrixCoefficients': 'COLOR_MATRIX_COEFFICIENTS_BT709'}, 'approxDurationMs': '277100', 'is_otf': False}, {'itag': 133, 'url': 'https://rr3---sn-5ualdnls.googlevideo.com/videoplayback?expire=1684358477&ei=7fBkZPqrBrGX_9EPuZyhiAs&ip=34.74.4.102&id=o-AJylLEJ4GQrN1mvJb351KnkjckwTKz0ngD_jIgZMsHWp&itag=133&source=youtube&requiressl=yes&mh=go&mm=31%2C29&mn=sn-5ualdnls%2Csn-5uaeznl6&ms=au%2Crdu&mv=u&mvi=3&pl=21&vprv=1&mime=video%2Fmp4&gir=yes&clen=861835&dur=277.099&lmt=1680791388085546&mt=1684336026&fvip=4&keepalive=yes&fexp=24007246&beids=24350018&c=ANDROID_MUSIC&txp=5319224&sparams=expire%2Cei%2Cip%2Cid%2Citag%2Csource%2Crequiressl%2Cvprv%2Cmime%2Cgir%2Cclen%2Cdur%2Clmt&sig=AOq0QJ8wRQIhAMhvLtdT7F2xB8zLqQ_j5lWfOPVE4yPmCXuiXtxSIHV5AiB9Qr9mIHTvG2TwUymWeopbUOKMB7KD9LAGex-JslayVQ%3D%3D&lsparams=mh%2Cmm%2Cmn%2Cms%2Cmv%2Cmvi%2Cpl&lsig=AG3C_xAwRgIhANyPQXqTXk535VA408YR3DaH4sbMebtbpGVVH8sW2Y6hAiEAu-0ifhw7DRk31AGuPdl6-sXGyt5EF8z9lCPBm2pe408%3D', 'mimeType': 'video/mp4; codecs=\"avc1.4d4015\"', 'bitrate': 29092, 'width': 426, 'height': 240, 'initRange': {'start': '0', 'end': '739'}, 'indexRange': {'start': '740', 'end': '1395'}, 'lastModified': '1680791388085546', 'contentLength': '861835', 'quality': 'small', 'fps': 30, 'qualityLabel': '240p', 'projectionType': 'RECTANGULAR', 'averageBitrate': 24881, 'approxDurationMs': '277099', 'is_otf': False}, {'itag': 242, 'url': 'https://rr3---sn-5ualdnls.googlevideo.com/videoplayback?expire=1684358477&ei=7fBkZPqrBrGX_9EPuZyhiAs&ip=34.74.4.102&id=o-AJylLEJ4GQrN1mvJb351KnkjckwTKz0ngD_jIgZMsHWp&itag=242&source=youtube&requiressl=yes&mh=go&mm=31%2C29&mn=sn-5ualdnls%2Csn-5uaeznl6&ms=au%2Crdu&mv=u&mvi=3&pl=21&vprv=1&mime=video%2Fwebm&gir=yes&clen=878079&dur=277.100&lmt=1680791382769939&mt=1684336026&fvip=4&keepalive=yes&fexp=24007246&beids=24350018&c=ANDROID_MUSIC&txp=5319224&sparams=expire%2Cei%2Cip%2Cid%2Citag%2Csource%2Crequiressl%2Cvprv%2Cmime%2Cgir%2Cclen%2Cdur%2Clmt&sig=AOq0QJ8wRQIgZ2CtIvM3Ru6Fnec9mszeDTlFzHzEKnGeRhrBdH0dMkgCIQDpK6UAUQuSoTeWCS5NN0BDAG52elNkcJSROI4OvgD_Cw%3D%3D&lsparams=mh%2Cmm%2Cmn%2Cms%2Cmv%2Cmvi%2Cpl&lsig=AG3C_xAwRgIhANyPQXqTXk535VA408YR3DaH4sbMebtbpGVVH8sW2Y6hAiEAu-0ifhw7DRk31AGuPdl6-sXGyt5EF8z9lCPBm2pe408%3D', 'mimeType': 'video/webm; codecs=\"vp9\"', 'bitrate': 33252, 'width': 426, 'height': 240, 'initRange': {'start': '0', 'end': '217'}, 'indexRange': {'start': '218', 'end': '1087'}, 'lastModified': '1680791382769939', 'contentLength': '878079', 'quality': 'small', 'fps': 30, 'qualityLabel': '240p', 'projectionType': 'RECTANGULAR', 'averageBitrate': 25350, 'colorInfo': {'primaries': 'COLOR_PRIMARIES_BT709', 'transferCharacteristics': 'COLOR_TRANSFER_CHARACTERISTICS_BT709', 'matrixCoefficients': 'COLOR_MATRIX_COEFFICIENTS_BT709'}, 'approxDurationMs': '277100', 'is_otf': False}, {'itag': 160, 'url': 'https://rr3---sn-5ualdnls.googlevideo.com/videoplayback?expire=1684358477&ei=7fBkZPqrBrGX_9EPuZyhiAs&ip=34.74.4.102&id=o-AJylLEJ4GQrN1mvJb351KnkjckwTKz0ngD_jIgZMsHWp&itag=160&source=youtube&requiressl=yes&mh=go&mm=31%2C29&mn=sn-5ualdnls%2Csn-5uaeznl6&ms=au%2Crdu&mv=u&mvi=3&pl=21&vprv=1&mime=video%2Fmp4&gir=yes&clen=523107&dur=277.099&lmt=1680791387286518&mt=1684336026&fvip=4&keepalive=yes&fexp=24007246&beids=24350018&c=ANDROID_MUSIC&txp=5319224&sparams=expire%2Cei%2Cip%2Cid%2Citag%2Csource%2Crequiressl%2Cvprv%2Cmime%2Cgir%2Cclen%2Cdur%2Clmt&sig=AOq0QJ8wRAIgVur_o7lnLYG1gU1V4h5lxAVvsHF8tLt6kvd-H5ilZHICIBOvmAbmawifM50O_cdeUR1pRJ-deGaiFdwa1a8rs8hx&lsparams=mh%2Cmm%2Cmn%2Cms%2Cmv%2Cmvi%2Cpl&lsig=AG3C_xAwRgIhANyPQXqTXk535VA408YR3DaH4sbMebtbpGVVH8sW2Y6hAiEAu-0ifhw7DRk31AGuPdl6-sXGyt5EF8z9lCPBm2pe408%3D', 'mimeType': 'video/mp4; codecs=\"avc1.4d400c\"', 'bitrate': 17053, 'width': 256, 'height': 144, 'initRange': {'start': '0', 'end': '738'}, 'indexRange': {'start': '739', 'end': '1394'}, 'lastModified': '1680791387286518', 'contentLength': '523107', 'quality': 'tiny', 'fps': 30, 'qualityLabel': '144p', 'projectionType': 'RECTANGULAR', 'averageBitrate': 15102, 'approxDurationMs': '277099', 'is_otf': False}, {'itag': 278, 'url': 'https://rr3---sn-5ualdnls.googlevideo.com/videoplayback?expire=1684358477&ei=7fBkZPqrBrGX_9EPuZyhiAs&ip=34.74.4.102&id=o-AJylLEJ4GQrN1mvJb351KnkjckwTKz0ngD_jIgZMsHWp&itag=278&source=youtube&requiressl=yes&mh=go&mm=31%2C29&mn=sn-5ualdnls%2Csn-5uaeznl6&ms=au%2Crdu&mv=u&mvi=3&pl=21&vprv=1&mime=video%2Fwebm&gir=yes&clen=645861&dur=277.100&lmt=1680791389192624&mt=1684336026&fvip=4&keepalive=yes&fexp=24007246&beids=24350018&c=ANDROID_MUSIC&txp=5319224&sparams=expire%2Cei%2Cip%2Cid%2Citag%2Csource%2Crequiressl%2Cvprv%2Cmime%2Cgir%2Cclen%2Cdur%2Clmt&sig=AOq0QJ8wRQIgYEPsIBen1a80rAuIJzpt85yMzh_ez1N2gvwQjVp4SDUCIQDsnKvguHwGTM1_E4UHsiJsbxztXQqvgajntST4-LOF3Q%3D%3D&lsparams=mh%2Cmm%2Cmn%2Cms%2Cmv%2Cmvi%2Cpl&lsig=AG3C_xAwRgIhANyPQXqTXk535VA408YR3DaH4sbMebtbpGVVH8sW2Y6hAiEAu-0ifhw7DRk31AGuPdl6-sXGyt5EF8z9lCPBm2pe408%3D', 'mimeType': 'video/webm; codecs=\"vp9\"', 'bitrate': 22483, 'width': 256, 'height': 144, 'initRange': {'start': '0', 'end': '217'}, 'indexRange': {'start': '218', 'end': '1086'}, 'lastModified': '1680791389192624', 'contentLength': '645861', 'quality': 'tiny', 'fps': 30, 'qualityLabel': '144p', 'projectionType': 'RECTANGULAR', 'averageBitrate': 18646, 'colorInfo': {'primaries': 'COLOR_PRIMARIES_BT709', 'transferCharacteristics': 'COLOR_TRANSFER_CHARACTERISTICS_BT709', 'matrixCoefficients': 'COLOR_MATRIX_COEFFICIENTS_BT709'}, 'approxDurationMs': '277100', 'is_otf': False}, {'itag': 139, 'url': 'https://rr3---sn-5ualdnls.googlevideo.com/videoplayback?expire=1684358477&ei=7fBkZPqrBrGX_9EPuZyhiAs&ip=34.74.4.102&id=o-AJylLEJ4GQrN1mvJb351KnkjckwTKz0ngD_jIgZMsHWp&itag=139&source=youtube&requiressl=yes&mh=go&mm=31%2C29&mn=sn-5ualdnls%2Csn-5uaeznl6&ms=au%2Crdu&mv=u&mvi=3&pl=21&vprv=1&mime=audio%2Fmp4&gir=yes&clen=1691278&dur=277.246&lmt=1680791446651399&mt=1684336026&fvip=4&keepalive=yes&fexp=24007246&beids=24350018&c=ANDROID_MUSIC&txp=5318224&sparams=expire%2Cei%2Cip%2Cid%2Citag%2Csource%2Crequiressl%2Cvprv%2Cmime%2Cgir%2Cclen%2Cdur%2Clmt&sig=AOq0QJ8wRQIhAI4CZtdh4egJ_HoCRQPLBwEREeR0Updeg3vk6nmpY2o4AiAZPG5za7Ursbr2FKZS9VqScfI1_MOhZncDZC4-rzB5Vw%3D%3D&lsparams=mh%2Cmm%2Cmn%2Cms%2Cmv%2Cmvi%2Cpl&lsig=AG3C_xAwRgIhANyPQXqTXk535VA408YR3DaH4sbMebtbpGVVH8sW2Y6hAiEAu-0ifhw7DRk31AGuPdl6-sXGyt5EF8z9lCPBm2pe408%3D', 'mimeType': 'audio/mp4; codecs=\"mp4a.40.5\"', 'bitrate': 49958, 'initRange': {'start': '0', 'end': '640'}, 'indexRange': {'start': '641', 'end': '1008'}, 'lastModified': '1680791446651399', 'contentLength': '1691278', 'quality': 'tiny', 'projectionType': 'RECTANGULAR', 'averageBitrate': 48802, 'audioQuality': 'AUDIO_QUALITY_LOW', 'approxDurationMs': '277246', 'audioSampleRate': '22050', 'audioChannels': 2, 'is_otf': False}, {'itag': 140, 'url': 'https://rr3---sn-5ualdnls.googlevideo.com/videoplayback?expire=1684358477&ei=7fBkZPqrBrGX_9EPuZyhiAs&ip=34.74.4.102&id=o-AJylLEJ4GQrN1mvJb351KnkjckwTKz0ngD_jIgZMsHWp&itag=140&source=youtube&requiressl=yes&mh=go&mm=31%2C29&mn=sn-5ualdnls%2Csn-5uaeznl6&ms=au%2Crdu&mv=u&mvi=3&pl=21&vprv=1&mime=audio%2Fmp4&gir=yes&clen=4486861&dur=277.199&lmt=1680791446184711&mt=1684336026&fvip=4&keepalive=yes&fexp=24007246&beids=24350018&c=ANDROID_MUSIC&txp=5318224&sparams=expire%2Cei%2Cip%2Cid%2Citag%2Csource%2Crequiressl%2Cvprv%2Cmime%2Cgir%2Cclen%2Cdur%2Clmt&sig=AOq0QJ8wRQIgXDfo0LiNsNETlHNwCckfidkX2sj2yAwQB55Cutob8GgCIQC6wlll4gT6VG67MlA1FKjedsJVurto56g28rYaEYEatw%3D%3D&lsparams=mh%2Cmm%2Cmn%2Cms%2Cmv%2Cmvi%2Cpl&lsig=AG3C_xAwRgIhANyPQXqTXk535VA408YR3DaH4sbMebtbpGVVH8sW2Y6hAiEAu-0ifhw7DRk31AGuPdl6-sXGyt5EF8z9lCPBm2pe408%3D', 'mimeType': 'audio/mp4; codecs=\"mp4a.40.2\"', 'bitrate': 130627, 'initRange': {'start': '0', 'end': '631'}, 'indexRange': {'start': '632', 'end': '999'}, 'lastModified': '1680791446184711', 'contentLength': '4486861', 'quality': 'tiny', 'projectionType': 'RECTANGULAR', 'averageBitrate': 129491, 'highReplication': True, 'audioQuality': 'AUDIO_QUALITY_MEDIUM', 'approxDurationMs': '277199', 'audioSampleRate': '44100', 'audioChannels': 2, 'is_otf': False}, {'itag': 249, 'url': 'https://rr3---sn-5ualdnls.googlevideo.com/videoplayback?expire=1684358477&ei=7fBkZPqrBrGX_9EPuZyhiAs&ip=34.74.4.102&id=o-AJylLEJ4GQrN1mvJb351KnkjckwTKz0ngD_jIgZMsHWp&itag=249&source=youtube&requiressl=yes&mh=go&mm=31%2C29&mn=sn-5ualdnls%2Csn-5uaeznl6&ms=au%2Crdu&mv=u&mvi=3&pl=21&vprv=1&mime=audio%2Fwebm&gir=yes&clen=1543046&dur=277.161&lmt=1680791419256982&mt=1684336026&fvip=4&keepalive=yes&fexp=24007246&beids=24350018&c=ANDROID_MUSIC&txp=5318224&sparams=expire%2Cei%2Cip%2Cid%2Citag%2Csource%2Crequiressl%2Cvprv%2Cmime%2Cgir%2Cclen%2Cdur%2Clmt&sig=AOq0QJ8wRQIgUMz-7X0aBkuazn_maw0DFnNnPtKyi9HUSdaf80TshRUCIQCT4p8BF1NgiRw_AIYfj-6W9YvDmmzW4TH-YsIP4I7daQ%3D%3D&lsparams=mh%2Cmm%2Cmn%2Cms%2Cmv%2Cmvi%2Cpl&lsig=AG3C_xAwRgIhANyPQXqTXk535VA408YR3DaH4sbMebtbpGVVH8sW2Y6hAiEAu-0ifhw7DRk31AGuPdl6-sXGyt5EF8z9lCPBm2pe408%3D', 'mimeType': 'audio/webm; codecs=\"opus\"', 'bitrate': 49037, 'initRange': {'start': '0', 'end': '258'}, 'indexRange': {'start': '259', 'end': '730'}, 'lastModified': '1680791419256982', 'contentLength': '1543046', 'quality': 'tiny', 'projectionType': 'RECTANGULAR', 'averageBitrate': 44538, 'audioQuality': 'AUDIO_QUALITY_LOW', 'approxDurationMs': '277161', 'audioSampleRate': '48000', 'audioChannels': 2, 'is_otf': False}, {'itag': 250, 'url': 'https://rr3---sn-5ualdnls.googlevideo.com/videoplayback?expire=1684358477&ei=7fBkZPqrBrGX_9EPuZyhiAs&ip=34.74.4.102&id=o-AJylLEJ4GQrN1mvJb351KnkjckwTKz0ngD_jIgZMsHWp&itag=250&source=youtube&requiressl=yes&mh=go&mm=31%2C29&mn=sn-5ualdnls%2Csn-5uaeznl6&ms=au%2Crdu&mv=u&mvi=3&pl=21&vprv=1&mime=audio%2Fwebm&gir=yes&clen=1944263&dur=277.161&lmt=1680791419230785&mt=1684336026&fvip=4&keepalive=yes&fexp=24007246&beids=24350018&c=ANDROID_MUSIC&txp=5318224&sparams=expire%2Cei%2Cip%2Cid%2Citag%2Csource%2Crequiressl%2Cvprv%2Cmime%2Cgir%2Cclen%2Cdur%2Clmt&sig=AOq0QJ8wRgIhAKHZqhSD8EJ-z2ZxtQ1M-_oJUP1voAEkC0bONYPcEfjBAiEAhyvOHmt-Ef2TVX-tllSPGTdUBw_jzOjjlkstALTKkxk%3D&lsparams=mh%2Cmm%2Cmn%2Cms%2Cmv%2Cmvi%2Cpl&lsig=AG3C_xAwRgIhANyPQXqTXk535VA408YR3DaH4sbMebtbpGVVH8sW2Y6hAiEAu-0ifhw7DRk31AGuPdl6-sXGyt5EF8z9lCPBm2pe408%3D', 'mimeType': 'audio/webm; codecs=\"opus\"', 'bitrate': 63663, 'initRange': {'start': '0', 'end': '258'}, 'indexRange': {'start': '259', 'end': '731'}, 'lastModified': '1680791419230785', 'contentLength': '1944263', 'quality': 'tiny', 'projectionType': 'RECTANGULAR', 'averageBitrate': 56119, 'audioQuality': 'AUDIO_QUALITY_LOW', 'approxDurationMs': '277161', 'audioSampleRate': '48000', 'audioChannels': 2, 'is_otf': False}, {'itag': 251, 'url': 'https://rr3---sn-5ualdnls.googlevideo.com/videoplayback?expire=1684358477&ei=7fBkZPqrBrGX_9EPuZyhiAs&ip=34.74.4.102&id=o-AJylLEJ4GQrN1mvJb351KnkjckwTKz0ngD_jIgZMsHWp&itag=251&source=youtube&requiressl=yes&mh=go&mm=31%2C29&mn=sn-5ualdnls%2Csn-5uaeznl6&ms=au%2Crdu&mv=u&mvi=3&pl=21&vprv=1&mime=audio%2Fwebm&gir=yes&clen=4278920&dur=277.161&lmt=1680791419241240&mt=1684336026&fvip=4&keepalive=yes&fexp=24007246&beids=24350018&c=ANDROID_MUSIC&txp=5318224&sparams=expire%2Cei%2Cip%2Cid%2Citag%2Csource%2Crequiressl%2Cvprv%2Cmime%2Cgir%2Cclen%2Cdur%2Clmt&sig=AOq0QJ8wRQIhAKyOBULMa8T31DHJDc5kSG_uci7VyNHVC3Xe9kkfHvsVAiB8IDjFV2xXc5V8ZnNK_6Dt8UsBSvwzWmxLwsXcHnPoWg%3D%3D&lsparams=mh%2Cmm%2Cmn%2Cms%2Cmv%2Cmvi%2Cpl&lsig=AG3C_xAwRgIhANyPQXqTXk535VA408YR3DaH4sbMebtbpGVVH8sW2Y6hAiEAu-0ifhw7DRk31AGuPdl6-sXGyt5EF8z9lCPBm2pe408%3D', 'mimeType': 'audio/webm; codecs=\"opus\"', 'bitrate': 128913, 'initRange': {'start': '0', 'end': '258'}, 'indexRange': {'start': '259', 'end': '731'}, 'lastModified': '1680791419241240', 'contentLength': '4278920', 'quality': 'tiny', 'projectionType': 'RECTANGULAR', 'averageBitrate': 123507, 'audioQuality': 'AUDIO_QUALITY_MEDIUM', 'approxDurationMs': '277161', 'audioSampleRate': '48000', 'audioChannels': 2, 'is_otf': False}]}\n",
            "None\n",
            "https://www.youtube.com/embed/DVpqAxxiEGQ\n",
            "[<Stream: itag=\"17\" mime_type=\"video/3gpp\" res=\"144p\" fps=\"8fps\" vcodec=\"mp4v.20.3\" acodec=\"mp4a.40.2\" progressive=\"True\" type=\"video\">, <Stream: itag=\"18\" mime_type=\"video/mp4\" res=\"360p\" fps=\"30fps\" vcodec=\"avc1.42001E\" acodec=\"mp4a.40.2\" progressive=\"True\" type=\"video\">, <Stream: itag=\"22\" mime_type=\"video/mp4\" res=\"720p\" fps=\"30fps\" vcodec=\"avc1.64001F\" acodec=\"mp4a.40.2\" progressive=\"True\" type=\"video\">, <Stream: itag=\"137\" mime_type=\"video/mp4\" res=\"1080p\" fps=\"30fps\" vcodec=\"avc1.640028\" progressive=\"False\" type=\"video\">, <Stream: itag=\"248\" mime_type=\"video/webm\" res=\"1080p\" fps=\"30fps\" vcodec=\"vp9\" progressive=\"False\" type=\"video\">, <Stream: itag=\"136\" mime_type=\"video/mp4\" res=\"720p\" fps=\"30fps\" vcodec=\"avc1.64001f\" progressive=\"False\" type=\"video\">, <Stream: itag=\"247\" mime_type=\"video/webm\" res=\"720p\" fps=\"30fps\" vcodec=\"vp9\" progressive=\"False\" type=\"video\">, <Stream: itag=\"135\" mime_type=\"video/mp4\" res=\"480p\" fps=\"30fps\" vcodec=\"avc1.4d401f\" progressive=\"False\" type=\"video\">, <Stream: itag=\"244\" mime_type=\"video/webm\" res=\"480p\" fps=\"30fps\" vcodec=\"vp9\" progressive=\"False\" type=\"video\">, <Stream: itag=\"134\" mime_type=\"video/mp4\" res=\"360p\" fps=\"30fps\" vcodec=\"avc1.4d401e\" progressive=\"False\" type=\"video\">, <Stream: itag=\"243\" mime_type=\"video/webm\" res=\"360p\" fps=\"30fps\" vcodec=\"vp9\" progressive=\"False\" type=\"video\">, <Stream: itag=\"133\" mime_type=\"video/mp4\" res=\"240p\" fps=\"30fps\" vcodec=\"avc1.4d4015\" progressive=\"False\" type=\"video\">, <Stream: itag=\"242\" mime_type=\"video/webm\" res=\"240p\" fps=\"30fps\" vcodec=\"vp9\" progressive=\"False\" type=\"video\">, <Stream: itag=\"160\" mime_type=\"video/mp4\" res=\"144p\" fps=\"30fps\" vcodec=\"avc1.4d400c\" progressive=\"False\" type=\"video\">, <Stream: itag=\"278\" mime_type=\"video/webm\" res=\"144p\" fps=\"30fps\" vcodec=\"vp9\" progressive=\"False\" type=\"video\">, <Stream: itag=\"139\" mime_type=\"audio/mp4\" abr=\"48kbps\" acodec=\"mp4a.40.5\" progressive=\"False\" type=\"audio\">, <Stream: itag=\"140\" mime_type=\"audio/mp4\" abr=\"128kbps\" acodec=\"mp4a.40.2\" progressive=\"False\" type=\"audio\">, <Stream: itag=\"249\" mime_type=\"audio/webm\" abr=\"50kbps\" acodec=\"opus\" progressive=\"False\" type=\"audio\">, <Stream: itag=\"250\" mime_type=\"audio/webm\" abr=\"70kbps\" acodec=\"opus\" progressive=\"False\" type=\"audio\">, <Stream: itag=\"251\" mime_type=\"audio/webm\" abr=\"160kbps\" acodec=\"opus\" progressive=\"False\" type=\"audio\">]\n",
            "Tiểu Ái\n"
          ]
        }
      ]
    },
    {
      "cell_type": "code",
      "source": [
        "    # def download(\n",
        "    #     self,\n",
        "    #     output_path: Optional[str] = None,\n",
        "    #     filename: Optional[str] = None,\n",
        "    #     filename_prefix: Optional[str] = None,\n",
        "    #     skip_existing: bool = True,\n",
        "    #     timeout: Optional[int] = None,\n",
        "    #     max_retries: Optional[int] = 0\n",
        "    # )"
      ],
      "metadata": {
        "colab": {
          "base_uri": "https://localhost:8080/",
          "height": 35
        },
        "id": "OjXRz0ObH5IM",
        "outputId": "47689564-3077-4bab-fa6b-e6d44db7317b"
      },
      "execution_count": 14,
      "outputs": [
        {
          "output_type": "execute_result",
          "data": {
            "text/plain": [
              "'(Vietsub+Pinyin) Thập niên nhân gian十年人间 - Lão Can  MaLao乾媽 (Lý Thường Siêu).mp4'"
            ],
            "application/vnd.google.colaboratory.intrinsic+json": {
              "type": "string"
            }
          },
          "metadata": {},
          "execution_count": 14
        }
      ]
    },
    {
      "cell_type": "code",
      "source": [
        "# Hàm download trong thư viện PyTube có các tham số và chức năng như sau:\n",
        "\n",
        "# output_path (tùy chọn): Đường dẫn đến thư mục nơi bạn muốn lưu trữ video tải xuống. Nếu không được chỉ định, video sẽ được lưu trữ trong thư mục hiện tại.\n",
        "# filename (tùy chọn): Tên file cho video tải xuống. Nếu không được chỉ định, PyTube sẽ tự động tạo tên file dựa trên thông tin từ YouTube.\n",
        "# filename_prefix (tùy chọn): Tiền tố của tên file video tải xuống. Nếu không được chỉ định, tiền tố sẽ không được sử dụng.\n",
        "# skip_existing (mặc định True): Xác định xem có bỏ qua việc tải xuống nếu đã tồn tại file video trong output_path hay không. Nếu skip_existing được đặt là False, video sẽ được tải xuống dù đã tồn tại hay chưa.\n",
        "# timeout (tùy chọn): Đặt thời gian chờ tối đa cho mỗi yêu cầu tải xuống, tính bằng giây.\n",
        "# max_retries (tùy chọn): Số lần thử lại tải xuống khi gặp lỗi. Nếu không được chỉ định hoặc được đặt là 0, không có thử lại nào sẽ được thực hiện.\n",
        "# Bằng cách sử dụng các tham số này, bạn có thể tùy chỉnh cách tải xuống video và quyết định nơi lưu trữ video, tên file và các tùy chọn khác liên quan đến việc xử lý tải xuống và xử lý lỗi."
      ],
      "metadata": {
        "id": "TwiCjySnJx96"
      },
      "execution_count": null,
      "outputs": []
    },
    {
      "cell_type": "code",
      "source": [
        "stream.download( timeout=10)\n"
      ],
      "metadata": {
        "colab": {
          "base_uri": "https://localhost:8080/",
          "height": 35
        },
        "id": "fwiLj-fgKHGD",
        "outputId": "eab70585-5318-4ddd-9502-a9f56bb91826"
      },
      "execution_count": 28,
      "outputs": [
        {
          "output_type": "execute_result",
          "data": {
            "text/plain": [
              "'/content/(Vietsub+Pinyin) Thập niên nhân gian十年人间 - Lão Can  MaLao乾媽 (Lý Thường Siêu).mp4'"
            ],
            "application/vnd.google.colaboratory.intrinsic+json": {
              "type": "string"
            }
          },
          "metadata": {},
          "execution_count": 28
        }
      ]
    },
    {
      "cell_type": "markdown",
      "source": [
        "#Playlist Downloader\n"
      ],
      "metadata": {
        "id": "1tp2e97N37QR"
      }
    },
    {
      "cell_type": "code",
      "source": [
        "\n",
        "from pytube import Playlist\n",
        "playlist_url = input(\"Enter Playlist URL: \")\n",
        "pl = Playlist(playlist_url)\n",
        "print(f\"Total videos in playlist: {len(pl.video_urls)}\")\n",
        "for video_url in pl.video_urls:\n",
        "    yt = YouTube(video_url)\n",
        "    print(\"Currently Downloading: \" + yt.title)\n",
        "    stream = yt.streams.get_highest_resolution()\n",
        "    stream.download()\n",
        "\n",
        "print(\"All videos downloaded successfully!\")"
      ],
      "metadata": {
        "id": "qrJCPpyO3S1o"
      },
      "execution_count": null,
      "outputs": []
    },
    {
      "cell_type": "code",
      "source": [],
      "metadata": {
        "id": "4R1VnOLA3S4R"
      },
      "execution_count": null,
      "outputs": []
    },
    {
      "cell_type": "code",
      "source": [],
      "metadata": {
        "id": "fm4Mj5Ic3S6Q"
      },
      "execution_count": null,
      "outputs": []
    }
  ]
}